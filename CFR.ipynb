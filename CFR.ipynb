{
  "cells": [
    {
      "cell_type": "code",
      "execution_count": 1,
      "metadata": {
        "id": "1GOU0uoNHApH",
        "colab": {
          "base_uri": "https://localhost:8080/"
        },
        "outputId": "76e67b32-a441-430c-c4f5-8983e118a224"
      },
      "outputs": [
        {
          "output_type": "stream",
          "name": "stdout",
          "text": [
            "Looking in indexes: https://pypi.org/simple, https://us-python.pkg.dev/colab-wheels/public/simple/\n",
            "Requirement already satisfied: sklearn_crfsuite in /usr/local/lib/python3.10/dist-packages (0.3.6)\n",
            "Requirement already satisfied: tqdm>=2.0 in /usr/local/lib/python3.10/dist-packages (from sklearn_crfsuite) (4.65.0)\n",
            "Requirement already satisfied: tabulate in /usr/local/lib/python3.10/dist-packages (from sklearn_crfsuite) (0.8.10)\n",
            "Requirement already satisfied: six in /usr/local/lib/python3.10/dist-packages (from sklearn_crfsuite) (1.16.0)\n",
            "Requirement already satisfied: python-crfsuite>=0.8.3 in /usr/local/lib/python3.10/dist-packages (from sklearn_crfsuite) (0.9.9)\n"
          ]
        }
      ],
      "source": [
        "!pip install sklearn_crfsuite;\n",
        "#!pip install eli5;\n",
        "#!pip install --force-reinstall --no-dependencies \"scikit-learn==0.24.2\";"
      ]
    },
    {
      "cell_type": "code",
      "execution_count": 2,
      "metadata": {
        "id": "urJuwuynGzmw"
      },
      "outputs": [],
      "source": [
        "import nltk\n",
        "import sklearn_crfsuite\n",
        "#import eli5\n",
        "import pandas as pd\n",
        "import csv\n",
        "\n",
        "from itertools import chain\n",
        "\n",
        "import nltk\n",
        "import sklearn\n",
        "import scipy.stats\n",
        "#from sklearn.metrics import make_scorer\n",
        "#from sklearn.cross_validation import cross_val_score\n",
        "#from sklearn.grid_search import RandomizedSearchCV\n",
        "\n",
        "#from sklearn_crfsuite import scorers\n",
        "from sklearn_crfsuite import metrics"
      ]
    },
    {
      "cell_type": "code",
      "execution_count": 3,
      "metadata": {
        "colab": {
          "base_uri": "https://localhost:8080/"
        },
        "id": "i6OievVEHUiC",
        "outputId": "8bd1e531-40e3-47cc-94f7-7a215d81ddce"
      },
      "outputs": [
        {
          "output_type": "stream",
          "name": "stdout",
          "text": [
            "Drive already mounted at /content/drive; to attempt to forcibly remount, call drive.mount(\"/content/drive\", force_remount=True).\n",
            "Colab environment detected. Paths have been set.\n"
          ]
        }
      ],
      "source": [
        "RunningInCOLAB = 'google.colab' in str(get_ipython()) if hasattr(__builtins__,'__IPYTHON__') else False\n",
        "\n",
        "if RunningInCOLAB:\n",
        "    from google.colab import drive\n",
        "    drive.mount('/content/drive')\n",
        "    import os\n",
        "    os.chdir('/content/drive/MyDrive/Colab Notebooks/NLP/KIND-main')\n",
        "    os.getcwd()\n",
        "\n",
        "    print(\"Colab environment detected. Paths have been set.\")\n",
        "else:\n",
        "    print(\"You are not running in Google Colab. Skipping this step...\")"
      ]
    },
    {
      "cell_type": "code",
      "execution_count": 4,
      "metadata": {
        "id": "PnI5qAfc7xVt"
      },
      "outputs": [],
      "source": [
        "file_path_loc = os.path.join(os.getcwd(), 'gazetteers/it-LOC-wikipedia.txt')\n",
        "file_path_org = os.path.join(os.getcwd(), 'gazetteers/it-ORG-wikipedia.txt')\n",
        "file_path_per = os.path.join(os.getcwd(), 'gazetteers/it-PER-wikipedia.txt')\n",
        "\n",
        "with open(file_path_loc, 'r') as f_loc, open(file_path_org, 'r') as f_org, open(file_path_per, 'r') as f_per:\n",
        "        gaz_loc = [line[4:-1] for line in f_loc.readlines()]\n",
        "        gaz_org = [line[4:-1] for line in f_org.readlines()]\n",
        "        gaz_per = [line[4:-1] for line in f_per.readlines()]"
      ]
    },
    {
      "cell_type": "code",
      "execution_count": 5,
      "metadata": {
        "colab": {
          "base_uri": "https://localhost:8080/"
        },
        "id": "eW2_67VK-bwh",
        "outputId": "907cea3f-1ff4-4d35-d937-5605a96ac3ba"
      },
      "outputs": [
        {
          "output_type": "stream",
          "name": "stdout",
          "text": [
            "['Irlanda del Nord', 'nordirlandese', 'Irlanda del nord']\n",
            "['Boeing', 'Boeing Commercial Airplanes', 'Boeing Company']\n",
            "['George Washington', 'Giorgio Washington', 'Jack Bauer']\n"
          ]
        }
      ],
      "source": [
        "# mettere in set\n",
        "# mettere postag con spacy\n",
        "# problema perchè come controllo una parola composta? magari mettere in word+1 la combinazione delle due se è in qualche gaz \n",
        "# oppure tokenizzare per parola e togliere stopwords e punteggiatura\n",
        "print(gaz_loc[:3])\n",
        "print(gaz_org[:3])\n",
        "print(gaz_per[:3])"
      ]
    },
    {
      "cell_type": "markdown",
      "metadata": {
        "id": "QanzD2nMzezj"
      },
      "source": [
        "Import of train and test dataset. Different combinations of datasets are possible."
      ]
    },
    {
      "cell_type": "code",
      "execution_count": 6,
      "metadata": {
        "id": "pwgKUF9rHkCe"
      },
      "outputs": [],
      "source": [
        "# Path of training file\n",
        "file_path_train = os.path.join(os.getcwd(), 'dataset/wikinews_train.tsv')\n",
        "\n",
        "# Inserting the content of the tsv file into a dataframe keeping the blank lines\n",
        "data_df_train = pd.read_csv(file_path_train, sep='\\t', names=['Word', 'Entity'], skip_blank_lines=False, quoting=csv.QUOTE_NONE)\n",
        "\n",
        "# Replace NaN values with a new line (\\n) to mark the beginning of a new phrase\n",
        "data_df_train.fillna('\\n', inplace=True)\n",
        "\n",
        "# Path of file degasperi_test.tsv\n",
        "file_path_test = os.path.join(os.getcwd(), 'dataset/wikinews_test.tsv')\n",
        "\n",
        "# Inserting the content of the tsv file into a dataframe keeping the blank lines (i.e. the end of a sentence)\n",
        "data_df_test = pd.read_csv(file_path_test, sep='\\t', names=['Word', 'Entity'], skip_blank_lines=False, quoting=csv.QUOTE_NONE)\n",
        "\n",
        "# Replace NaN values with a new line (\\n) to mark the beginning of a new phrase\n",
        "data_df_test.fillna('\\n', inplace=True)"
      ]
    },
    {
      "cell_type": "code",
      "execution_count": 7,
      "metadata": {
        "id": "zjlDospfHqvq",
        "colab": {
          "base_uri": "https://localhost:8080/",
          "height": 496
        },
        "outputId": "d9d42fe0-04f6-4ee3-c136-a0115cf8d7de"
      },
      "outputs": [
        {
          "output_type": "execute_result",
          "data": {
            "text/plain": [
              "         Word Entity\n",
              "0          In      O\n",
              "1      fiamme      O\n",
              "2          l'      O\n",
              "3    Istituto    LOC\n",
              "4        Lama    LOC\n",
              "5       Tzong    LOC\n",
              "6       Khapa    LOC\n",
              "7           ,      O\n",
              "8   monastero      O\n",
              "9   buddhista      O\n",
              "10         \\n     \\n\n",
              "11         In      O"
            ],
            "text/html": [
              "\n",
              "  <div id=\"df-a1f7b31a-8389-405f-b1e3-f1e89724c907\">\n",
              "    <div class=\"colab-df-container\">\n",
              "      <div>\n",
              "<style scoped>\n",
              "    .dataframe tbody tr th:only-of-type {\n",
              "        vertical-align: middle;\n",
              "    }\n",
              "\n",
              "    .dataframe tbody tr th {\n",
              "        vertical-align: top;\n",
              "    }\n",
              "\n",
              "    .dataframe thead th {\n",
              "        text-align: right;\n",
              "    }\n",
              "</style>\n",
              "<table border=\"1\" class=\"dataframe\">\n",
              "  <thead>\n",
              "    <tr style=\"text-align: right;\">\n",
              "      <th></th>\n",
              "      <th>Word</th>\n",
              "      <th>Entity</th>\n",
              "    </tr>\n",
              "  </thead>\n",
              "  <tbody>\n",
              "    <tr>\n",
              "      <th>0</th>\n",
              "      <td>In</td>\n",
              "      <td>O</td>\n",
              "    </tr>\n",
              "    <tr>\n",
              "      <th>1</th>\n",
              "      <td>fiamme</td>\n",
              "      <td>O</td>\n",
              "    </tr>\n",
              "    <tr>\n",
              "      <th>2</th>\n",
              "      <td>l'</td>\n",
              "      <td>O</td>\n",
              "    </tr>\n",
              "    <tr>\n",
              "      <th>3</th>\n",
              "      <td>Istituto</td>\n",
              "      <td>LOC</td>\n",
              "    </tr>\n",
              "    <tr>\n",
              "      <th>4</th>\n",
              "      <td>Lama</td>\n",
              "      <td>LOC</td>\n",
              "    </tr>\n",
              "    <tr>\n",
              "      <th>5</th>\n",
              "      <td>Tzong</td>\n",
              "      <td>LOC</td>\n",
              "    </tr>\n",
              "    <tr>\n",
              "      <th>6</th>\n",
              "      <td>Khapa</td>\n",
              "      <td>LOC</td>\n",
              "    </tr>\n",
              "    <tr>\n",
              "      <th>7</th>\n",
              "      <td>,</td>\n",
              "      <td>O</td>\n",
              "    </tr>\n",
              "    <tr>\n",
              "      <th>8</th>\n",
              "      <td>monastero</td>\n",
              "      <td>O</td>\n",
              "    </tr>\n",
              "    <tr>\n",
              "      <th>9</th>\n",
              "      <td>buddhista</td>\n",
              "      <td>O</td>\n",
              "    </tr>\n",
              "    <tr>\n",
              "      <th>10</th>\n",
              "      <td>\\n</td>\n",
              "      <td>\\n</td>\n",
              "    </tr>\n",
              "    <tr>\n",
              "      <th>11</th>\n",
              "      <td>In</td>\n",
              "      <td>O</td>\n",
              "    </tr>\n",
              "  </tbody>\n",
              "</table>\n",
              "</div>\n",
              "      <button class=\"colab-df-convert\" onclick=\"convertToInteractive('df-a1f7b31a-8389-405f-b1e3-f1e89724c907')\"\n",
              "              title=\"Convert this dataframe to an interactive table.\"\n",
              "              style=\"display:none;\">\n",
              "        \n",
              "  <svg xmlns=\"http://www.w3.org/2000/svg\" height=\"24px\"viewBox=\"0 0 24 24\"\n",
              "       width=\"24px\">\n",
              "    <path d=\"M0 0h24v24H0V0z\" fill=\"none\"/>\n",
              "    <path d=\"M18.56 5.44l.94 2.06.94-2.06 2.06-.94-2.06-.94-.94-2.06-.94 2.06-2.06.94zm-11 1L8.5 8.5l.94-2.06 2.06-.94-2.06-.94L8.5 2.5l-.94 2.06-2.06.94zm10 10l.94 2.06.94-2.06 2.06-.94-2.06-.94-.94-2.06-.94 2.06-2.06.94z\"/><path d=\"M17.41 7.96l-1.37-1.37c-.4-.4-.92-.59-1.43-.59-.52 0-1.04.2-1.43.59L10.3 9.45l-7.72 7.72c-.78.78-.78 2.05 0 2.83L4 21.41c.39.39.9.59 1.41.59.51 0 1.02-.2 1.41-.59l7.78-7.78 2.81-2.81c.8-.78.8-2.07 0-2.86zM5.41 20L4 18.59l7.72-7.72 1.47 1.35L5.41 20z\"/>\n",
              "  </svg>\n",
              "      </button>\n",
              "      \n",
              "  <style>\n",
              "    .colab-df-container {\n",
              "      display:flex;\n",
              "      flex-wrap:wrap;\n",
              "      gap: 12px;\n",
              "    }\n",
              "\n",
              "    .colab-df-convert {\n",
              "      background-color: #E8F0FE;\n",
              "      border: none;\n",
              "      border-radius: 50%;\n",
              "      cursor: pointer;\n",
              "      display: none;\n",
              "      fill: #1967D2;\n",
              "      height: 32px;\n",
              "      padding: 0 0 0 0;\n",
              "      width: 32px;\n",
              "    }\n",
              "\n",
              "    .colab-df-convert:hover {\n",
              "      background-color: #E2EBFA;\n",
              "      box-shadow: 0px 1px 2px rgba(60, 64, 67, 0.3), 0px 1px 3px 1px rgba(60, 64, 67, 0.15);\n",
              "      fill: #174EA6;\n",
              "    }\n",
              "\n",
              "    [theme=dark] .colab-df-convert {\n",
              "      background-color: #3B4455;\n",
              "      fill: #D2E3FC;\n",
              "    }\n",
              "\n",
              "    [theme=dark] .colab-df-convert:hover {\n",
              "      background-color: #434B5C;\n",
              "      box-shadow: 0px 1px 3px 1px rgba(0, 0, 0, 0.15);\n",
              "      filter: drop-shadow(0px 1px 2px rgba(0, 0, 0, 0.3));\n",
              "      fill: #FFFFFF;\n",
              "    }\n",
              "  </style>\n",
              "\n",
              "      <script>\n",
              "        const buttonEl =\n",
              "          document.querySelector('#df-a1f7b31a-8389-405f-b1e3-f1e89724c907 button.colab-df-convert');\n",
              "        buttonEl.style.display =\n",
              "          google.colab.kernel.accessAllowed ? 'block' : 'none';\n",
              "\n",
              "        async function convertToInteractive(key) {\n",
              "          const element = document.querySelector('#df-a1f7b31a-8389-405f-b1e3-f1e89724c907');\n",
              "          const dataTable =\n",
              "            await google.colab.kernel.invokeFunction('convertToInteractive',\n",
              "                                                     [key], {});\n",
              "          if (!dataTable) return;\n",
              "\n",
              "          const docLinkHtml = 'Like what you see? Visit the ' +\n",
              "            '<a target=\"_blank\" href=https://colab.research.google.com/notebooks/data_table.ipynb>data table notebook</a>'\n",
              "            + ' to learn more about interactive tables.';\n",
              "          element.innerHTML = '';\n",
              "          dataTable['output_type'] = 'display_data';\n",
              "          await google.colab.output.renderOutput(dataTable, element);\n",
              "          const docLink = document.createElement('div');\n",
              "          docLink.innerHTML = docLinkHtml;\n",
              "          element.appendChild(docLink);\n",
              "        }\n",
              "      </script>\n",
              "    </div>\n",
              "  </div>\n",
              "  "
            ]
          },
          "metadata": {},
          "execution_count": 7
        }
      ],
      "source": [
        "# See first elements\n",
        "data_df_train[:12]"
      ]
    },
    {
      "cell_type": "code",
      "execution_count": 8,
      "metadata": {
        "id": "qS0m0Mnazvp4"
      },
      "outputs": [],
      "source": [
        "def sentences_transform(data_df):\n",
        "  \"\"\"\n",
        "  Given in input a dataframe containing words and entities,\n",
        "  returns a list of tuples where each tuple is associated to a sentence\n",
        "  and has as first element a list of words and as second element a list of\n",
        "  associated entities.\n",
        "  \"\"\"\n",
        "\n",
        "  # Group the DataFrame by sentence using the '\\n' separator\n",
        "  grouped = data_df_train.groupby(data_df['Word'].eq('\\n').cumsum())\n",
        "\n",
        "  # Iterate over the groups and concatenate the words and tags into sentences\n",
        "  sentences = []\n",
        "  for _, group in grouped:\n",
        "      sentence = ' '.join(group['Word'])\n",
        "      tags = ' '.join(group['Entity'])\n",
        "      sentences.append((sentence.strip().split(), tags.strip().split()))\n",
        "      \n",
        "  return sentences"
      ]
    },
    {
      "cell_type": "code",
      "execution_count": 9,
      "metadata": {
        "colab": {
          "base_uri": "https://localhost:8080/"
        },
        "id": "o4Ytt8HV1WRo",
        "outputId": "fc9a8794-b085-4b3b-edac-e7b647b0cc59"
      },
      "outputs": [
        {
          "output_type": "stream",
          "name": "stdout",
          "text": [
            "[(['In', 'fiamme', \"l'\", 'Istituto', 'Lama', 'Tzong', 'Khapa', ',', 'monastero', 'buddhista'], ['O', 'O', 'O', 'LOC', 'LOC', 'LOC', 'LOC', 'O', 'O', 'O']), (['In', 'fiamme', 'il', 'Monastero', 'Lama', 'Tzong', 'Khapa', ',', 'centro', 'buddhista', 'di', 'Pisa', ',', 'una', 'delle', 'istituzioni', 'più', 'importanti', 'per', 'lo', 'studio', 'e', 'la', 'pratica', 'del', 'Buddhismo', 'di', 'tradizione', 'tibetana', 'in', 'tutta', 'Europa', '.'], ['O', 'O', 'O', 'LOC', 'LOC', 'LOC', 'LOC', 'O', 'O', 'O', 'O', 'LOC', 'O', 'O', 'O', 'O', 'O', 'O', 'O', 'O', 'O', 'O', 'O', 'O', 'O', 'O', 'O', 'O', 'O', 'O', 'O', 'LOC', 'O'])]\n"
          ]
        }
      ],
      "source": [
        "sentences_train = sentences_transform(data_df_train)\n",
        "sentences_test = sentences_transform(data_df_test)\n",
        "print(sentences_train[:2])"
      ]
    },
    {
      "cell_type": "code",
      "execution_count": 10,
      "metadata": {
        "colab": {
          "base_uri": "https://localhost:8080/"
        },
        "id": "lwuJWqbpRFqW",
        "outputId": "20ef9822-efb0-4a99-ae90-f941af2b0bb1"
      },
      "outputs": [
        {
          "output_type": "execute_result",
          "data": {
            "text/plain": [
              "['O', 'O', 'O', 'LOC', 'LOC', 'LOC', 'LOC', 'O', 'O', 'O']"
            ]
          },
          "metadata": {},
          "execution_count": 10
        }
      ],
      "source": [
        "sentences_train[0][1]"
      ]
    },
    {
      "cell_type": "code",
      "execution_count": 11,
      "metadata": {
        "id": "XT8TT-mDHOXe"
      },
      "outputs": [],
      "source": [
        "# Each sentence should be converted to a list of dict\n",
        "def word2features(sent, i):\n",
        "    word = sent[i]\n",
        "    #postag = sent[i][1] Don't have postags at the moment\n",
        "\n",
        "    features = {\n",
        "        'bias': 1.0,\n",
        "        'word.lower()': word.lower(),\n",
        "        'word[-3:]': word[-3:],\n",
        "        'word[-2:]': word[-2:],\n",
        "        'word.isupper()': word.isupper(),\n",
        "        'word.istitle()': word.istitle(), # Check if start with an upper case\n",
        "        'word.isdigit()': word.isdigit(),\n",
        "        'word.inloc()': word in gaz_loc,\n",
        "        'word.inorg()': word in gaz_org,\n",
        "        'word.inper()': word in gaz_per,\n",
        "        #'postag': postag,\n",
        "        #'postag[:2]': postag[:2],\n",
        "    }\n",
        "    if i > 0:\n",
        "        # Take previous word of the sentence\n",
        "        word1 = sent[i-1]\n",
        "        #postag1 = sent[i-1][1]\n",
        "        features.update({\n",
        "            '-1:word.lower()': word1.lower(),\n",
        "            '-1:word.istitle()': word1.istitle(),\n",
        "            '-1:word.isupper()': word1.isupper(),\n",
        "            #'-1:postag': postag1,\n",
        "            #'-1:postag[:2]': postag1[:2],\n",
        "        })\n",
        "    else:\n",
        "        # BOS = beginning of string? Però così non tutti ce l'hanno\n",
        "        features['BOS'] = True\n",
        "\n",
        "    if i < len(sent)-1:\n",
        "        # Take following word of the sentence\n",
        "        word1 = sent[i+1]\n",
        "        #postag1 = sent[i+1][1]\n",
        "        features.update({\n",
        "            '+1:word.lower()': word1.lower(),\n",
        "            '+1:word.istitle()': word1.istitle(),\n",
        "            '+1:word.isupper()': word1.isupper(),\n",
        "            #'+1:postag': postag1,\n",
        "            #'+1:postag[:2]': postag1[:2],\n",
        "        })\n",
        "    else:\n",
        "      # EOS = end of string?\n",
        "        features['EOS'] = True\n",
        "\n",
        "    return features\n",
        "\n",
        "def sent2features(sent):\n",
        "    return [word2features(sent[0], i) for i in range(len(sent[0]))]\n",
        "\n",
        "def sent2labels(sent):\n",
        "    return sent[1]\n",
        "\n",
        "def sent2tokens(sent):\n",
        "    return sent[0]"
      ]
    },
    {
      "cell_type": "code",
      "source": [
        "gaz_loc = set(gaz_loc)\n",
        "gaz_org = set(gaz_org)\n",
        "gaz_per = set(gaz_per)"
      ],
      "metadata": {
        "id": "Z6LkkQAtULpF"
      },
      "execution_count": 12,
      "outputs": []
    },
    {
      "cell_type": "code",
      "execution_count": 13,
      "metadata": {
        "id": "Bsn-8zbP2qIT"
      },
      "outputs": [],
      "source": [
        "# Convert dataset in the right format\n",
        "X_train = [sent2features(sentence) for sentence in sentences_train]\n",
        "y_train = [sent2labels(sentence) for sentence in sentences_train]\n",
        "\n",
        "X_test = [sent2features(sentence) for sentence in sentences_test]\n",
        "y_test = [sent2labels(sentence) for sentence in sentences_test]"
      ]
    },
    {
      "cell_type": "code",
      "execution_count": 14,
      "metadata": {
        "colab": {
          "base_uri": "https://localhost:8080/"
        },
        "id": "_WD2tHUgQGgv",
        "outputId": "c498828f-1d11-4ce1-8f98-e1c178873640"
      },
      "outputs": [
        {
          "output_type": "execute_result",
          "data": {
            "text/plain": [
              "{'bias': 1.0,\n",
              " 'word.lower()': 'in',\n",
              " 'word[-3:]': 'In',\n",
              " 'word[-2:]': 'In',\n",
              " 'word.isupper()': False,\n",
              " 'word.istitle()': True,\n",
              " 'word.isdigit()': False,\n",
              " 'word.inloc()': False,\n",
              " 'word.inorg()': False,\n",
              " 'word.inper()': False,\n",
              " 'BOS': True,\n",
              " '+1:word.lower()': 'fiamme',\n",
              " '+1:word.istitle()': False,\n",
              " '+1:word.isupper()': False}"
            ]
          },
          "metadata": {},
          "execution_count": 14
        }
      ],
      "source": [
        "# Check features for the first word of first sentence\n",
        "X_train[0][0]"
      ]
    },
    {
      "cell_type": "code",
      "execution_count": 15,
      "metadata": {
        "id": "FDfxTiOuRI5J"
      },
      "outputs": [],
      "source": [
        "# Define the training algorithm\n",
        "crf = sklearn_crfsuite.CRF(\n",
        "    algorithm='lbfgs',\n",
        "    c1=0.1,\n",
        "    c2=0.1,\n",
        "    max_iterations=100,\n",
        "    all_possible_transitions=True, # slightly better with True\n",
        ")\n",
        "\n",
        "# Train the model\n",
        "crf.fit(X_train, y_train);"
      ]
    },
    {
      "cell_type": "code",
      "execution_count": 16,
      "metadata": {
        "colab": {
          "base_uri": "https://localhost:8080/"
        },
        "id": "a_mELbEmSA30",
        "outputId": "e9ae9948-2f6c-4127-f026-ca0d83387e05"
      },
      "outputs": [
        {
          "output_type": "execute_result",
          "data": {
            "text/plain": [
              "['O', 'LOC', 'PER', 'ORG']"
            ]
          },
          "metadata": {},
          "execution_count": 16
        }
      ],
      "source": [
        "crf.classes_"
      ]
    },
    {
      "cell_type": "code",
      "execution_count": 17,
      "metadata": {
        "colab": {
          "base_uri": "https://localhost:8080/"
        },
        "id": "lwlHsiUMReOd",
        "outputId": "f6726a6c-bffb-44f2-832c-333b60c4af83"
      },
      "outputs": [
        {
          "output_type": "execute_result",
          "data": {
            "text/plain": [
              "['LOC', 'PER', 'ORG']"
            ]
          },
          "metadata": {},
          "execution_count": 17
        }
      ],
      "source": [
        "# Remove 'O' label, we are not interested in it\n",
        "labels = list(crf.classes_)\n",
        "labels.remove('O')\n",
        "labels"
      ]
    },
    {
      "cell_type": "code",
      "execution_count": 18,
      "metadata": {
        "colab": {
          "base_uri": "https://localhost:8080/"
        },
        "id": "3sw26nI4SGBg",
        "outputId": "5c102a95-cbfc-4a20-cfd6-e066caabf4fc"
      },
      "outputs": [
        {
          "output_type": "execute_result",
          "data": {
            "text/plain": [
              "0.9424912263923237"
            ]
          },
          "metadata": {},
          "execution_count": 18
        }
      ],
      "source": [
        "# Compute predictions\n",
        "y_pred = crf.predict(X_test)\n",
        "\n",
        "# Compute \n",
        "metrics.flat_f1_score(y_test, y_pred,\n",
        "                      average='weighted', labels=labels)"
      ]
    },
    {
      "cell_type": "code",
      "execution_count": 19,
      "metadata": {
        "colab": {
          "base_uri": "https://localhost:8080/"
        },
        "id": "A3JmUzKQZkoR",
        "outputId": "cabe06a2-592e-4a7b-c4cc-2d0a91c36462"
      },
      "outputs": [
        {
          "output_type": "stream",
          "name": "stdout",
          "text": [
            "[1 3 0 2]\n"
          ]
        },
        {
          "output_type": "execute_result",
          "data": {
            "text/plain": [
              "array(['LOC', 'O', 'ORG', 'PER'], dtype='<U3')"
            ]
          },
          "metadata": {},
          "execution_count": 19
        }
      ],
      "source": [
        "from sklearn.preprocessing import LabelEncoder\n",
        "\n",
        "# create the vector of string labels\n",
        "labels = ['O', 'PER', 'LOC', 'ORG']\n",
        "\n",
        "# create a LabelEncoder object and fit_transform the labels\n",
        "le = LabelEncoder()\n",
        "le.fit(labels)\n",
        "numeric_labels = le.transform(labels)\n",
        "\n",
        "\n",
        "print(numeric_labels)\n",
        "le.classes_"
      ]
    },
    {
      "cell_type": "code",
      "execution_count": 20,
      "metadata": {
        "id": "QQ2j9yQNfeet"
      },
      "outputs": [],
      "source": [
        "y_pred_num = [le.transform(sent) for sent in y_pred]\n",
        "y_test_num = [le.transform(sent) for sent in y_test]"
      ]
    },
    {
      "cell_type": "code",
      "execution_count": 21,
      "metadata": {
        "id": "P4aE7Ct4tphJ"
      },
      "outputs": [],
      "source": [
        "from pandas.core.common import flatten\n",
        "\n",
        "y_pred_num = list(flatten(y_pred_num))\n",
        "y_test_num = list(flatten(y_test_num))"
      ]
    },
    {
      "cell_type": "code",
      "execution_count": 22,
      "metadata": {
        "colab": {
          "base_uri": "https://localhost:8080/"
        },
        "id": "a1m1_aCDWUS7",
        "outputId": "b98c33dd-416c-4bfd-d32d-10163a89d780"
      },
      "outputs": [
        {
          "output_type": "stream",
          "name": "stdout",
          "text": [
            "              precision    recall  f1-score   support\n",
            "\n",
            "           0      0.908     0.947     0.927      1660\n",
            "           2      0.950     0.848     0.896      1653\n",
            "           3      0.989     0.982     0.985      2379\n",
            "\n",
            "   micro avg      0.954     0.933     0.943      5692\n",
            "   macro avg      0.949     0.925     0.936      5692\n",
            "weighted avg      0.954     0.933     0.942      5692\n",
            "\n"
          ]
        }
      ],
      "source": [
        "print(sklearn.metrics.classification_report(y_test_num, y_pred_num, labels=[0,2,3], digits=3))"
      ]
    },
    {
      "cell_type": "code",
      "execution_count": 23,
      "metadata": {
        "colab": {
          "base_uri": "https://localhost:8080/"
        },
        "id": "kDxt9W10Ty9b",
        "outputId": "f0b013cd-044a-49c5-ffd0-26f93b3273c1"
      },
      "outputs": [
        {
          "output_type": "stream",
          "name": "stdout",
          "text": [
            "Top likely transitions:\n",
            "ORG    -> ORG     3.882359\n",
            "LOC    -> LOC     3.536723\n",
            "O      -> O       2.535663\n",
            "PER    -> PER     1.908443\n",
            "O      -> ORG     -0.443471\n",
            "O      -> LOC     -0.677226\n",
            "O      -> PER     -0.906261\n",
            "ORG    -> O       -1.082594\n",
            "ORG    -> PER     -1.271687\n",
            "PER    -> O       -1.413751\n",
            "LOC    -> O       -1.649565\n",
            "PER    -> ORG     -3.026632\n",
            "LOC    -> PER     -3.162489\n",
            "LOC    -> ORG     -3.771079\n",
            "PER    -> LOC     -4.484841\n",
            "ORG    -> LOC     -4.851020\n",
            "\n",
            "Top unlikely transitions:\n",
            "ORG    -> LOC     -4.851020\n",
            "PER    -> LOC     -4.484841\n",
            "LOC    -> ORG     -3.771079\n",
            "LOC    -> PER     -3.162489\n",
            "PER    -> ORG     -3.026632\n",
            "LOC    -> O       -1.649565\n",
            "PER    -> O       -1.413751\n",
            "ORG    -> PER     -1.271687\n",
            "ORG    -> O       -1.082594\n",
            "O      -> PER     -0.906261\n",
            "O      -> LOC     -0.677226\n",
            "O      -> ORG     -0.443471\n",
            "PER    -> PER     1.908443\n",
            "O      -> O       2.535663\n",
            "LOC    -> LOC     3.536723\n",
            "ORG    -> ORG     3.882359\n"
          ]
        }
      ],
      "source": [
        "from collections import Counter\n",
        "\n",
        "def print_transitions(trans_features):\n",
        "    for (label_from, label_to), weight in trans_features:\n",
        "        print(\"%-6s -> %-7s %0.6f\" % (label_from, label_to, weight))\n",
        "\n",
        "print(\"Top likely transitions:\")\n",
        "print_transitions(Counter(crf.transition_features_).most_common(20))\n",
        "\n",
        "print(\"\\nTop unlikely transitions:\")\n",
        "print_transitions(Counter(crf.transition_features_).most_common()[::-1])"
      ]
    }
  ],
  "metadata": {
    "colab": {
      "provenance": []
    },
    "kernelspec": {
      "display_name": "Python 3",
      "name": "python3"
    },
    "language_info": {
      "name": "python"
    }
  },
  "nbformat": 4,
  "nbformat_minor": 0
}